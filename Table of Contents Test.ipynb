{
 "cells": [
  {
   "cell_type": "markdown",
   "metadata": {},
   "source": [
    "# Table of Contents Test\n",
    "## By Troy Nguyen\n",
    "This is a test notebook to see if can make a Table of Contents that functions on GitHub."
   ]
  },
  {
   "cell_type": "markdown",
   "metadata": {},
   "source": [
    "# Table of Contents\n",
    "1. [Test Header One](#test-header-one)\n",
    "2. [Test Header Two](#test-header-two)\n",
    "    1. [Test Header Two.A](#test-header-twoa)\n",
    "3. [Test Header Three](#test-header-three)"
   ]
  },
  {
   "cell_type": "markdown",
   "metadata": {},
   "source": [
    "# test header one\n",
    "Example Text One"
   ]
  },
  {
   "cell_type": "markdown",
   "metadata": {},
   "source": [
    "# test header two\n",
    "Example Text Two"
   ]
  },
  {
   "cell_type": "markdown",
   "metadata": {},
   "source": [
    "## test header twoa\n",
    "Example Text TwoA"
   ]
  },
  {
   "cell_type": "markdown",
   "metadata": {},
   "source": [
    "# test header three\n",
    "Example Text Three"
   ]
  }
 ],
 "metadata": {
  "kernelspec": {
   "display_name": "Python 3",
   "language": "python",
   "name": "python3"
  },
  "language_info": {
   "codemirror_mode": {
    "name": "ipython",
    "version": 3
   },
   "file_extension": ".py",
   "mimetype": "text/x-python",
   "name": "python",
   "nbconvert_exporter": "python",
   "pygments_lexer": "ipython3",
   "version": "3.8.1"
  }
 },
 "nbformat": 4,
 "nbformat_minor": 4
}
