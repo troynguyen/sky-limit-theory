{
 "cells": [
  {
   "cell_type": "markdown",
   "metadata": {},
   "source": [
    "# Table of Contents Test\n",
    "## By Troy Nguyen\n",
    "This is a test notebook to see if can make a Table of Contents that functions on GitHub."
   ]
  },
  {
   "cell_type": "markdown",
   "metadata": {},
   "source": [
    "# Table of Contents\n",
    "1. [Test Header One](#test-header-one)\n",
    "2. [Test Header Two](#test-header-two)\n",
    "    1. [Test Header Two.A](#test-header-twoa)\n",
    "3. [Test Header Three](#test-header-three)"
   ]
  },
  {
   "cell_type": "markdown",
   "metadata": {},
   "source": [
    "# Test Header One <a name=\"test-header-one\"></a>\n",
    "Example Text One"
   ]
  },
  {
   "cell_type": "markdown",
   "metadata": {},
   "source": [
    "# Test Header Two <a name=\"test-header-two\"></a>\n",
    "Example Text Two"
   ]
  },
  {
   "cell_type": "markdown",
   "metadata": {},
   "source": [
    "## Test Header TwoA <a name=\"test-header-twoa\"></a>\n",
    "Example Text TwoA"
   ]
  },
  {
   "cell_type": "markdown",
   "metadata": {},
   "source": [
    "# Test Header Three <a name=\"test-header-three\"></a>\n",
    "Example Text Three"
   ]
  }
 ],
 "metadata": {
  "kernelspec": {
   "display_name": "Python 3",
   "language": "python",
   "name": "python3"
  },
  "language_info": {
   "codemirror_mode": {
    "name": "ipython",
    "version": 3
   },
   "file_extension": ".py",
   "mimetype": "text/x-python",
   "name": "python",
   "nbconvert_exporter": "python",
   "pygments_lexer": "ipython3",
   "version": "3.8.1"
  }
 },
 "nbformat": 4,
 "nbformat_minor": 4
}
